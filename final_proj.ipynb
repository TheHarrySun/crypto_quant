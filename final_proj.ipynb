{
 "cells": [
  {
   "cell_type": "code",
   "execution_count": 28,
   "id": "171ba0cd-7bd4-47fc-9c64-2dec6eb43417",
   "metadata": {},
   "outputs": [
    {
     "name": "stdout",
     "output_type": "stream",
     "text": [
      "Requirement already satisfied: python-binance in c:\\users\\hsx92\\appdata\\local\\programs\\python\\python311\\lib\\site-packages (1.0.29)\n",
      "Requirement already satisfied: requests in c:\\users\\hsx92\\appdata\\local\\programs\\python\\python311\\lib\\site-packages (from python-binance) (2.32.3)\n",
      "Requirement already satisfied: six in c:\\users\\hsx92\\appdata\\local\\programs\\python\\python311\\lib\\site-packages (from python-binance) (1.16.0)\n",
      "Requirement already satisfied: dateparser in c:\\users\\hsx92\\appdata\\local\\programs\\python\\python311\\lib\\site-packages (from python-binance) (1.2.1)\n",
      "Requirement already satisfied: aiohttp in c:\\users\\hsx92\\appdata\\local\\programs\\python\\python311\\lib\\site-packages (from python-binance) (3.11.14)\n",
      "Requirement already satisfied: websockets in c:\\users\\hsx92\\appdata\\local\\programs\\python\\python311\\lib\\site-packages (from python-binance) (15.0.1)\n",
      "Requirement already satisfied: pycryptodome in c:\\users\\hsx92\\appdata\\local\\programs\\python\\python311\\lib\\site-packages (from python-binance) (3.23.0)\n",
      "Requirement already satisfied: aiohappyeyeballs>=2.3.0 in c:\\users\\hsx92\\appdata\\local\\programs\\python\\python311\\lib\\site-packages (from aiohttp->python-binance) (2.6.1)\n",
      "Requirement already satisfied: aiosignal>=1.1.2 in c:\\users\\hsx92\\appdata\\local\\programs\\python\\python311\\lib\\site-packages (from aiohttp->python-binance) (1.3.2)\n",
      "Requirement already satisfied: attrs>=17.3.0 in c:\\users\\hsx92\\appdata\\local\\programs\\python\\python311\\lib\\site-packages (from aiohttp->python-binance) (25.1.0)\n",
      "Requirement already satisfied: frozenlist>=1.1.1 in c:\\users\\hsx92\\appdata\\local\\programs\\python\\python311\\lib\\site-packages (from aiohttp->python-binance) (1.5.0)\n",
      "Requirement already satisfied: multidict<7.0,>=4.5 in c:\\users\\hsx92\\appdata\\local\\programs\\python\\python311\\lib\\site-packages (from aiohttp->python-binance) (6.2.0)\n",
      "Requirement already satisfied: propcache>=0.2.0 in c:\\users\\hsx92\\appdata\\local\\programs\\python\\python311\\lib\\site-packages (from aiohttp->python-binance) (0.3.1)\n",
      "Requirement already satisfied: yarl<2.0,>=1.17.0 in c:\\users\\hsx92\\appdata\\local\\programs\\python\\python311\\lib\\site-packages (from aiohttp->python-binance) (1.18.3)\n",
      "Requirement already satisfied: idna>=2.0 in c:\\users\\hsx92\\appdata\\local\\programs\\python\\python311\\lib\\site-packages (from yarl<2.0,>=1.17.0->aiohttp->python-binance) (3.10)\n",
      "Requirement already satisfied: python-dateutil>=2.7.0 in c:\\users\\hsx92\\appdata\\local\\programs\\python\\python311\\lib\\site-packages (from dateparser->python-binance) (2.9.0.post0)\n",
      "Requirement already satisfied: pytz>=2024.2 in c:\\users\\hsx92\\appdata\\local\\programs\\python\\python311\\lib\\site-packages (from dateparser->python-binance) (2024.2)\n",
      "Requirement already satisfied: regex!=2019.02.19,!=2021.8.27,>=2015.06.24 in c:\\users\\hsx92\\appdata\\local\\programs\\python\\python311\\lib\\site-packages (from dateparser->python-binance) (2024.11.6)\n",
      "Requirement already satisfied: tzlocal>=0.2 in c:\\users\\hsx92\\appdata\\local\\programs\\python\\python311\\lib\\site-packages (from dateparser->python-binance) (5.3.1)\n",
      "Requirement already satisfied: tzdata in c:\\users\\hsx92\\appdata\\local\\programs\\python\\python311\\lib\\site-packages (from tzlocal>=0.2->dateparser->python-binance) (2024.2)\n",
      "Requirement already satisfied: charset-normalizer<4,>=2 in c:\\users\\hsx92\\appdata\\local\\programs\\python\\python311\\lib\\site-packages (from requests->python-binance) (3.4.0)\n",
      "Requirement already satisfied: urllib3<3,>=1.21.1 in c:\\users\\hsx92\\appdata\\local\\programs\\python\\python311\\lib\\site-packages (from requests->python-binance) (2.2.3)\n",
      "Requirement already satisfied: certifi>=2017.4.17 in c:\\users\\hsx92\\appdata\\local\\programs\\python\\python311\\lib\\site-packages (from requests->python-binance) (2024.8.30)\n",
      "Requirement already satisfied: cryptography in c:\\users\\hsx92\\appdata\\local\\programs\\python\\python311\\lib\\site-packages (45.0.4)\n",
      "Requirement already satisfied: cffi>=1.14 in c:\\users\\hsx92\\appdata\\local\\programs\\python\\python311\\lib\\site-packages (from cryptography) (1.17.1)\n",
      "Requirement already satisfied: pycparser in c:\\users\\hsx92\\appdata\\local\\programs\\python\\python311\\lib\\site-packages (from cffi>=1.14->cryptography) (2.22)\n"
     ]
    }
   ],
   "source": [
    "# installing all packages necessary\n",
    "! pip install python-binance\n",
    "! pip install cryptography"
   ]
  },
  {
   "cell_type": "code",
   "execution_count": 240,
   "id": "262632f8-69fb-4343-8e56-f2fff68d878b",
   "metadata": {},
   "outputs": [],
   "source": [
    "from binance.client import Client as bnb_client\n",
    "from datetime import datetime\n",
    "import pandas as pd\n",
    "import numpy as np"
   ]
  },
  {
   "cell_type": "code",
   "execution_count": 59,
   "id": "7bf8dd67-8e6d-4f0b-84c5-c06645e78f55",
   "metadata": {},
   "outputs": [],
   "source": [
    "client = bnb_client(tld='US')\n",
    "px = client.get_historical_klines('BTCUSDT', '1d', '2018-12-15')"
   ]
  },
  {
   "cell_type": "code",
   "execution_count": 63,
   "id": "710664b3-bf75-4955-9082-c5887191c24e",
   "metadata": {},
   "outputs": [],
   "source": [
    "def format_binance(data):\n",
    "    columns = ['open_time', \n",
    "               'open', \n",
    "               'high', \n",
    "               'low', \n",
    "               'close', \n",
    "               'volume', \n",
    "               'close_time', \n",
    "               'quote_volume', \n",
    "               'num_trades', \n",
    "               'taker_base_volume', \n",
    "               'taker_quote_volume', \n",
    "               'ignore']\n",
    "\n",
    "    df = pd.DataFrame(data, columns = columns)\n",
    "\n",
    "    # convert the POXIS timestamp to actual times (number of milliseconds since Jan 1, 1970)\n",
    "    df['open_time'] = df['open_time'].map(lambda x: datetime.utcfromtimestamp(x / 1000))\n",
    "    df['close_time'] = df['close_time'].map(lambda x: datetime.utcfromtimestamp(x / 1000))\n",
    "    return df"
   ]
  },
  {
   "cell_type": "code",
   "execution_count": 64,
   "id": "af276da3-d0b2-4afd-9ae3-11f864f41999",
   "metadata": {},
   "outputs": [],
   "source": [
    "formatted_px = format_binance(px)"
   ]
  },
  {
   "cell_type": "code",
   "execution_count": 65,
   "id": "7a4e5674-4d2f-4bed-80dc-48ee4bf0a00c",
   "metadata": {},
   "outputs": [
    {
     "data": {
      "text/plain": [
       "(2089, 12)"
      ]
     },
     "execution_count": 65,
     "metadata": {},
     "output_type": "execute_result"
    }
   ],
   "source": [
    "formatted_px.shape"
   ]
  },
  {
   "cell_type": "code",
   "execution_count": 221,
   "id": "b68dbfb4-b864-46fe-90f4-6d7348d7b256",
   "metadata": {},
   "outputs": [],
   "source": [
    "def get_binance_px(symbol, freq, start_time = '2019-01-01'):\n",
    "    client = bnb_client(tld=')\n",
    "    data = client.get_historical_klines(symbol,freq, start_time)\n",
    "    data = format_binance(data)\n",
    "    return data"
   ]
  },
  {
   "cell_type": "code",
   "execution_count": 258,
   "id": "4979fc9d-ed11-4a8e-802b-04d0c418315f",
   "metadata": {},
   "outputs": [],
   "source": [
    "univ = ['BTCUSDT','ETHUSDT','ADAUSDT','BNBUSDT','XRPUSDT','DOTUSDT','MATICUSDT']\n",
    "freq = '1h'\n",
    "px = {}\n",
    "for x in univ:\n",
    "    data = get_binance_px(x, freq)\n",
    "    px[x] = data.set_index('open_time')['close']\n",
    "\n",
    "px = pd.DataFrame(px).astype(float)\n",
    "px = px.reindex(pd.date_range(px.index[0], px.index[-1], freq = freq))\n",
    "ret = px.pct_change(fill_method=None)"
   ]
  },
  {
   "cell_type": "code",
   "execution_count": 321,
   "id": "9a6bc3bb-3647-4014-8994-f2137ee4a7df",
   "metadata": {},
   "outputs": [
    {
     "data": {
      "text/html": [
       "<div>\n",
       "<style scoped>\n",
       "    .dataframe tbody tr th:only-of-type {\n",
       "        vertical-align: middle;\n",
       "    }\n",
       "\n",
       "    .dataframe tbody tr th {\n",
       "        vertical-align: top;\n",
       "    }\n",
       "\n",
       "    .dataframe thead th {\n",
       "        text-align: right;\n",
       "    }\n",
       "</style>\n",
       "<table border=\"1\" class=\"dataframe\">\n",
       "  <thead>\n",
       "    <tr style=\"text-align: right;\">\n",
       "      <th></th>\n",
       "      <th>BTCUSDT</th>\n",
       "      <th>ETHUSDT</th>\n",
       "      <th>ADAUSDT</th>\n",
       "      <th>BNBUSDT</th>\n",
       "      <th>XRPUSDT</th>\n",
       "      <th>DOTUSDT</th>\n",
       "      <th>MATICUSDT</th>\n",
       "    </tr>\n",
       "  </thead>\n",
       "  <tbody>\n",
       "    <tr>\n",
       "      <th>2019-09-23 08:00:00</th>\n",
       "      <td>NaN</td>\n",
       "      <td>NaN</td>\n",
       "      <td>NaN</td>\n",
       "      <td>NaN</td>\n",
       "      <td>NaN</td>\n",
       "      <td>NaN</td>\n",
       "      <td>NaN</td>\n",
       "    </tr>\n",
       "    <tr>\n",
       "      <th>2019-09-23 09:00:00</th>\n",
       "      <td>NaN</td>\n",
       "      <td>NaN</td>\n",
       "      <td>NaN</td>\n",
       "      <td>NaN</td>\n",
       "      <td>NaN</td>\n",
       "      <td>NaN</td>\n",
       "      <td>NaN</td>\n",
       "    </tr>\n",
       "    <tr>\n",
       "      <th>2019-09-23 10:00:00</th>\n",
       "      <td>NaN</td>\n",
       "      <td>NaN</td>\n",
       "      <td>NaN</td>\n",
       "      <td>NaN</td>\n",
       "      <td>NaN</td>\n",
       "      <td>NaN</td>\n",
       "      <td>NaN</td>\n",
       "    </tr>\n",
       "    <tr>\n",
       "      <th>2019-09-23 11:00:00</th>\n",
       "      <td>NaN</td>\n",
       "      <td>NaN</td>\n",
       "      <td>NaN</td>\n",
       "      <td>NaN</td>\n",
       "      <td>NaN</td>\n",
       "      <td>NaN</td>\n",
       "      <td>NaN</td>\n",
       "    </tr>\n",
       "    <tr>\n",
       "      <th>2019-09-23 12:00:00</th>\n",
       "      <td>NaN</td>\n",
       "      <td>NaN</td>\n",
       "      <td>NaN</td>\n",
       "      <td>NaN</td>\n",
       "      <td>NaN</td>\n",
       "      <td>NaN</td>\n",
       "      <td>NaN</td>\n",
       "    </tr>\n",
       "    <tr>\n",
       "      <th>...</th>\n",
       "      <td>...</td>\n",
       "      <td>...</td>\n",
       "      <td>...</td>\n",
       "      <td>...</td>\n",
       "      <td>...</td>\n",
       "      <td>...</td>\n",
       "      <td>...</td>\n",
       "    </tr>\n",
       "    <tr>\n",
       "      <th>2025-06-13 01:00:00</th>\n",
       "      <td>-0.166667</td>\n",
       "      <td>0.277778</td>\n",
       "      <td>0.055556</td>\n",
       "      <td>-0.277778</td>\n",
       "      <td>-0.055556</td>\n",
       "      <td>0.166667</td>\n",
       "      <td>NaN</td>\n",
       "    </tr>\n",
       "    <tr>\n",
       "      <th>2025-06-13 02:00:00</th>\n",
       "      <td>-0.166667</td>\n",
       "      <td>0.277778</td>\n",
       "      <td>0.166667</td>\n",
       "      <td>-0.277778</td>\n",
       "      <td>-0.055556</td>\n",
       "      <td>0.055556</td>\n",
       "      <td>NaN</td>\n",
       "    </tr>\n",
       "    <tr>\n",
       "      <th>2025-06-13 03:00:00</th>\n",
       "      <td>-0.166667</td>\n",
       "      <td>0.277778</td>\n",
       "      <td>0.166667</td>\n",
       "      <td>-0.277778</td>\n",
       "      <td>-0.055556</td>\n",
       "      <td>0.055556</td>\n",
       "      <td>NaN</td>\n",
       "    </tr>\n",
       "    <tr>\n",
       "      <th>2025-06-13 04:00:00</th>\n",
       "      <td>-0.166667</td>\n",
       "      <td>0.277778</td>\n",
       "      <td>0.166667</td>\n",
       "      <td>-0.277778</td>\n",
       "      <td>-0.055556</td>\n",
       "      <td>0.055556</td>\n",
       "      <td>NaN</td>\n",
       "    </tr>\n",
       "    <tr>\n",
       "      <th>2025-06-13 05:00:00</th>\n",
       "      <td>-0.166667</td>\n",
       "      <td>0.277778</td>\n",
       "      <td>0.166667</td>\n",
       "      <td>-0.277778</td>\n",
       "      <td>-0.055556</td>\n",
       "      <td>0.055556</td>\n",
       "      <td>NaN</td>\n",
       "    </tr>\n",
       "  </tbody>\n",
       "</table>\n",
       "<p>50158 rows × 7 columns</p>\n",
       "</div>"
      ],
      "text/plain": [
       "                      BTCUSDT   ETHUSDT   ADAUSDT   BNBUSDT   XRPUSDT  \\\n",
       "2019-09-23 08:00:00       NaN       NaN       NaN       NaN       NaN   \n",
       "2019-09-23 09:00:00       NaN       NaN       NaN       NaN       NaN   \n",
       "2019-09-23 10:00:00       NaN       NaN       NaN       NaN       NaN   \n",
       "2019-09-23 11:00:00       NaN       NaN       NaN       NaN       NaN   \n",
       "2019-09-23 12:00:00       NaN       NaN       NaN       NaN       NaN   \n",
       "...                       ...       ...       ...       ...       ...   \n",
       "2025-06-13 01:00:00 -0.166667  0.277778  0.055556 -0.277778 -0.055556   \n",
       "2025-06-13 02:00:00 -0.166667  0.277778  0.166667 -0.277778 -0.055556   \n",
       "2025-06-13 03:00:00 -0.166667  0.277778  0.166667 -0.277778 -0.055556   \n",
       "2025-06-13 04:00:00 -0.166667  0.277778  0.166667 -0.277778 -0.055556   \n",
       "2025-06-13 05:00:00 -0.166667  0.277778  0.166667 -0.277778 -0.055556   \n",
       "\n",
       "                      DOTUSDT  MATICUSDT  \n",
       "2019-09-23 08:00:00       NaN        NaN  \n",
       "2019-09-23 09:00:00       NaN        NaN  \n",
       "2019-09-23 10:00:00       NaN        NaN  \n",
       "2019-09-23 11:00:00       NaN        NaN  \n",
       "2019-09-23 12:00:00       NaN        NaN  \n",
       "...                       ...        ...  \n",
       "2025-06-13 01:00:00  0.166667        NaN  \n",
       "2025-06-13 02:00:00  0.055556        NaN  \n",
       "2025-06-13 03:00:00  0.055556        NaN  \n",
       "2025-06-13 04:00:00  0.055556        NaN  \n",
       "2025-06-13 05:00:00  0.055556        NaN  \n",
       "\n",
       "[50158 rows x 7 columns]"
      ]
     },
     "execution_count": 321,
     "metadata": {},
     "output_type": "execute_result"
    }
   ],
   "source": [
    "hor = 20\n",
    "port = (-1.0 * ret.rolling(hor, min_periods=1).mean()).rank(1)\n",
    "port = port.subtract(port.mean(1), 0)\n",
    "port = port.divide(port.abs().sum(1), 0)\n",
    "port"
   ]
  },
  {
   "cell_type": "code",
   "execution_count": 309,
   "id": "a9563e73-a213-49c1-8451-11c51e025497",
   "metadata": {},
   "outputs": [
    {
     "data": {
      "text/plain": [
       "2019-09-23 08:00:00    0.000000\n",
       "2019-09-23 09:00:00    0.000000\n",
       "2019-09-23 10:00:00    0.000000\n",
       "2019-09-23 11:00:00    0.000000\n",
       "2019-09-23 12:00:00    0.000000\n",
       "                         ...   \n",
       "2025-06-13 01:00:00    0.222222\n",
       "2025-06-13 02:00:00    0.222222\n",
       "2025-06-13 03:00:00    0.000000\n",
       "2025-06-13 04:00:00    0.000000\n",
       "2025-06-13 05:00:00    0.000000\n",
       "Freq: h, Length: 50158, dtype: float64"
      ]
     },
     "execution_count": 309,
     "metadata": {},
     "output_type": "execute_result"
    }
   ],
   "source": [
    "to = (port.fillna(0) - port.shift().fillna(0)).abs().sum(1)\n",
    "to"
   ]
  },
  {
   "cell_type": "code",
   "execution_count": 310,
   "id": "f364e428-51ac-404c-80a4-bc5c0be74a24",
   "metadata": {},
   "outputs": [
    {
     "data": {
      "text/plain": [
       "<Axes: >"
      ]
     },
     "execution_count": 310,
     "metadata": {},
     "output_type": "execute_result"
    },
    {
     "data": {
      "image/png": "[encoded data removed]",
      "text/plain": [
       "<Figure size 640x480 with 1 Axes>"
      ]
     },
     "metadata": {},
     "output_type": "display_data"
    }
   ],
   "source": [
    "to.plot()"
   ]
  },
  {
   "cell_type": "code",
   "execution_count": 311,
   "id": "50736efb-b7dc-4a95-8e23-2a9a21ff979c",
   "metadata": {},
   "outputs": [
    {
     "data": {
      "text/plain": [
       "0.3741560003721574"
      ]
     },
     "execution_count": 311,
     "metadata": {},
     "output_type": "execute_result"
    }
   ],
   "source": [
    "float(to.mean())"
   ]
  },
  {
   "cell_type": "code",
   "execution_count": 312,
   "id": "1a9fb5b4-1bed-48c4-a166-199f22f46980",
   "metadata": {},
   "outputs": [],
   "source": [
    "gross_ret = (port.shift() * ret).sum(1)"
   ]
  },
  {
   "cell_type": "code",
   "execution_count": 313,
   "id": "e50dce01-65f4-494b-9ab1-7ef1ef500bde",
   "metadata": {},
   "outputs": [
    {
     "data": {
      "text/plain": [
       "np.float64(1.5306234715539764)"
      ]
     },
     "execution_count": 313,
     "metadata": {},
     "output_type": "execute_result"
    }
   ],
   "source": [
    "gross_ret.mean() / gross_ret.std() * np.sqrt(12*365)"
   ]
  },
  {
   "cell_type": "code",
   "execution_count": 314,
   "id": "9a81d40b-cf0c-41c4-b3f5-c116c8532f1d",
   "metadata": {},
   "outputs": [],
   "source": [
    "tcost_bps = 20\n",
    "net_ret = gross_ret.subtract(to * tcost_bps*1e-4, fill_value = 0)"
   ]
  },
  {
   "cell_type": "code",
   "execution_count": 315,
   "id": "cb86bbaa-66b2-4cc1-be90-37b53a8dae9b",
   "metadata": {},
   "outputs": [
    {
     "data": {
      "text/plain": [
       "np.float64(-12.680343921402836)"
      ]
     },
     "execution_count": 315,
     "metadata": {},
     "output_type": "execute_result"
    }
   ],
   "source": [
    "net_ret.mean() / net_ret.std() * np.sqrt(12 * 365)"
   ]
  },
  {
   "cell_type": "code",
   "execution_count": null,
   "id": "a926dd2c-1021-43e3-9f3e-5002c5f7fcbd",
   "metadata": {},
   "outputs": [],
   "source": []
  }
 ],
 "metadata": {
  "kernelspec": {
   "display_name": "Python 3 (ipykernel)",
   "language": "python",
   "name": "python3"
  },
  "language_info": {
   "codemirror_mode": {
    "name": "ipython",
    "version": 3
   },
   "file_extension": ".py",
   "mimetype": "text/x-python",
   "name": "python",
   "nbconvert_exporter": "python",
   "pygments_lexer": "ipython3",
   "version": "3.11.9"
  }
 },
 "nbformat": 4,
 "nbformat_minor": 5
}
